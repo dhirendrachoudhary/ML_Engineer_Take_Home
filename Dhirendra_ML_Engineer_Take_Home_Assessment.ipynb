{
  "cells": [
    {
      "cell_type": "markdown",
      "metadata": {
        "id": "5Vu93d2olS3m"
      },
      "source": [
        "# Design and Train an object detector to detect objects\n",
        "\n",
        "You have to design and implement a Training Pipeline that can train, test and visualize the model using the dataset provided.\n",
        "\n",
        "## Assignment Protocols\n",
        "\n",
        "- We expect it to take ~4 hours, with an extra 15 min for clear loom explanation(s)\n",
        "  - The assessment is timeboxed at 5 hours total in a single block. So please plan accordingly\n",
        "- You need to use Google Collaboratory to run and edit this notebook\n",
        "- You can only use Python as a programming Language\n",
        "- You cannot take help from any other person\n",
        "- You can use Google to search for references\n",
        "- You can not search on google for design-related things, like what should be loss function, or what should be model architecture.\n",
        "  - But you can use pre-trained backbones from PyTorch\n",
        "- Record a 5-10 mins of code walkthrough of the work you have done. You can use Loom Platform (https://www.loom.com) to record the video.\n",
        "  - Design Decisions\n",
        "    - Model Design which layers and activation functions you used and why\n",
        "    - Loss function, which loss functions you used and why\n",
        "    - Metrics, which metrics and why\n",
        "  - Any optimizations you have made to the codebase\n",
        "  - How you implemented resume functionality, what were the things you thought would be needed to resume training from exact same point\n",
        "  - Explain what parts of the assessment are completed and what is missing?\n",
        "  - Make sure to submit the screen recording link in the submission after you are done recording\n",
        "  - Please note that the free plan on Loom only allows for videos up to 5 minutes in length. As such, you may need to record two separate 5-minute videos.\n",
        "- [NO SUBMISSION WILL BE ACCEPTED WITHOUT]\n",
        "  - Trained best model weights\n",
        "  - Visualize Function in the Notebook\n",
        "  - Code Walk-through video\n",
        "\n",
        "## Task Details\n",
        "Design a Training Pipeline to train a object detector with following specs or assumptions:\n",
        "- Implement & Design Model\n",
        "  - You can use any backbone\n",
        "    - Either from PyTorch (torhvision) or any resource online\n",
        "    - But you need to design head your self (head means how you will use features of the back bone and get the desired outputs)\n",
        "  - Model needs to detect one object in each image\n",
        "  - Model should output following for each image passed as input:\n",
        "    - Whether we have an object or not\n",
        "    - Where is the object?\n",
        "      - The bounding box output format should be xmin, ymin, xmax, ymax\n",
        "      - It is not necessary the model is trained to output exactly this format but the visualize function which shows output should output in this format\n",
        "    - Either the object is a cat or dog?\n",
        "    - And which specie the object belongs to? There are in total 9 species: \n",
        "      - Cat [3 species]:\n",
        "        - Abyssinian\n",
        "        - Birman\n",
        "        - Persian\n",
        "      - Dog [6 species]\n",
        "        - american_bulldog\n",
        "        - american_pit_bull_terrier\n",
        "        - basset_hound\n",
        "        - beagle\n",
        "        - chihuahua\n",
        "        - pomeranian\n",
        "- Implement Custom Dataloader\n",
        "  - This is obvious as dataset is in a unique format any predifined dataloader wont work\n",
        "  - Follow best practices of writing custom dataloaders\n",
        "  - Details of the format of the dataset are defined in the Dataset Details section below\n",
        "  - Add needed pre-processing that you think would help train a better model or would help as we are using pre-trained weights as starting point\n",
        "  - Add augmentations that you think would help train a better model\n",
        "- Implement Loss Function\n",
        "  - Design and implement a loss function that can handle all of the outputs we have\n",
        "  - You can use pytorch built-in loss functions\n",
        "  - There are many scenarios which you need to handle, which one can understand from the dataset details and the model design\n",
        "- Implement Test Function\n",
        "  - The test function should be able to run the model on the validation set and output the metrics for all the outputs of the model\n",
        "  - Select the metrics carefully, there are many scenarios which can change the selection of a metric\n",
        "  - Keep in mind there are multiple outputs, you would need a metric for each output\n",
        "  - [NOTE] You don't need to implement metrics for the bounding box output as it can take more time than provided for this assessment. But please add details of the metrics you would have implemented in your code-walk through loom video.\n",
        "- Update Resume Training Functionality using the best weights\n",
        "  - Current script does not have save best weights functionality\n",
        "  - The code should be able to resume training from exactly same point from where the training was stopped if model weights file is passed\n",
        "  - Keep in mind you can not resume training from same point by just loading weights of the model\n",
        "- Implement a visualize function [Most important, without this no submission will be accepted]\n",
        "  - The input of the function should be path of a folder with images and the weight file\n",
        "    - Also the output folder path to save outputs\n",
        "  - This function should return a dictionary of dictionaries with following details for each image:\n",
        "    - {\n",
        "        \"has_object\": True,\n",
        "        \"cat_or_dog\": \"cat\",\n",
        "        \"specie\": \"persian\",\n",
        "        \"xmin\": 10,\n",
        "        \"ymin\": 10,\n",
        "        \"xmax\": 10,\n",
        "        \"ymax\": 10\n",
        "    }\n",
        "  - And in case there is no object it should have 0 for bbox values, \"NA\" for \"cat_or_dog\" and \"specie\", and False for \"has_object\".\n",
        "  - Values of the returned dictionary should be like explained above and keys should be image names including the extension \".jpg\" or \".jpeg\"\n",
        "  - Should save output image with bounding box drawn on it, with same name input image but place in the output folder \n",
        "- Try to train the best model\n",
        "\n",
        "\n",
        "## Dataset Details\n",
        "The dataset has in total 1041 images. Each image has a single object which is either a cat or a dog.\n",
        "- There are multiple species for both cat and dog.\n",
        "- The number of images falling in each specie is as follows:\n",
        "  - basset_hound: 93\n",
        "  - Birman: 93\n",
        "  - pomeranian: 93\n",
        "  - american_pit_bull_terrier: 93\n",
        "  - american_bulldog: 93\n",
        "  - Abyssinian: 92\n",
        "  - beagle: 93\n",
        "  - Persian: 93\n",
        "  - chihuahua: 93\n",
        "  - empty: 142\n",
        "- The dataset has two folders:\n",
        "  - images\n",
        "    - Inside images folder we have 986 images in .jpg folder\n",
        "  - labels\n",
        "    - Inside labels folder we have 899 .xml files each file with details of image labels\n",
        "    - For any image that does not have a cat or dog, there is no corresponding xml file\n",
        "\n",
        "## Deliverable\n",
        "- Updated Colab Based Jupyter Notebook:\n",
        "  - With all the required functionality Implemented\n",
        "  - Which one can train the model without any errors\n",
        "  - One should achieve same metrics (Almost same metrics) if I run training using this collab notebook\n",
        "    - Set default values for everything accordingly in the notebook\n",
        "  - During evaluation we will just run the notebook and use the best weights the notebook saves automatically\n",
        "- Best weights you have trained\n",
        "  - We will Evaluate your weights against hold-out test we have and compare results\n",
        "  - We will use visualize function to generate outputs for each image\n",
        "  - Upload weights in an easily downloadable location like, Dropbox, Google Drive, Github, etc\n",
        "- A video code-walk through explaining your design decisions including but not limited to:\n",
        "  - Model Design which layers and activation functions you used and why\n",
        "  - Loss function, which loss functions you used and why\n",
        "  - Metrics, which metrics and why\n",
        "  - Any optimizations you have made to the codebase\n",
        "  - How you implemented resume functionality, what were the things you thought would be needed to resume training from exact same point\n",
        "\n",
        "\n",
        "## Evaluation Criteria\n",
        " - Design Decisions\n",
        " - Completeness: Did you include all features?\n",
        " - Correctness: Does the solution (all deliverables) work in sensible, thought-out ways?\n",
        " - Maintainability: Is the code written in a clean, maintainable way?\n",
        " - Testing: Is the solution adequately tested?\n",
        " - Documentation: Is the codebase well-documented and has proper steps to run any of the deliverables?\n",
        "\n",
        "## Extra Points\n",
        "- Add metrics for the Bounding Box Output\n",
        "- Any Updates in the notebook (Bugs/Implementation Mistakes etc)\n",
        "\n",
        "## How to submit\n",
        "- Please upload the Notebook for this project to GitHub, and post a link to your repository below [repo link box, on the left of submit button].\n",
        "  - Create a new GitHub repository from scratch\n",
        "  - Add the final Colab/Jupyter notebook to the repository\n",
        "- Please upload video and your final best weights on Google Drive or any other platform, and paste the link to the folder with both video and model in the text box just above the submit button.\n",
        "- Please paste the commit Id of the latest commit of your Github Repo, which should not be later than 5 hours of time when the repo was created.\n",
        "  - Please note the submission without the commit id will not be considered."
      ]
    },
    {
      "cell_type": "markdown",
      "metadata": {
        "id": "KE_rGh4kod4n"
      },
      "source": [
        "# Install Required Modules"
      ]
    },
    {
      "cell_type": "code",
      "execution_count": 4,
      "metadata": {
        "id": "magQ0ErkoOIR"
      },
      "outputs": [],
      "source": [
        "\n",
        "# ! pip install bs4 lxml kaggle\n",
        "# !pip install torchmetrics"
      ]
    },
    {
      "cell_type": "markdown",
      "metadata": {
        "id": "Bw3F4t1eaLl6"
      },
      "source": [
        "# Download Dataset from Kaggle"
      ]
    },
    {
      "cell_type": "code",
      "execution_count": 5,
      "metadata": {
        "id": "59RSpyzRaOVj"
      },
      "outputs": [],
      "source": [
        "import os\n",
        "os.environ['KAGGLE_USERNAME'] = 'bilalyousaf0014'\n",
        "os.environ['KAGGLE_KEY'] = '11031bc21c5e3ec23585dbe17dc4267d'"
      ]
    },
    {
      "cell_type": "code",
      "execution_count": 6,
      "metadata": {
        "id": "plZEhi_oaPPn"
      },
      "outputs": [],
      "source": [
        "# !kaggle datasets download -d bilalyousaf0014/ml-engineer-assessment-dataset"
      ]
    },
    {
      "cell_type": "code",
      "execution_count": 7,
      "metadata": {
        "id": "d6jkCK0uaxRT"
      },
      "outputs": [],
      "source": [
        "# ! unzip /content/ml-engineer-assessment-dataset.zip "
      ]
    },
    {
      "cell_type": "markdown",
      "metadata": {
        "id": "PMEbUqsPl9s4"
      },
      "source": [
        "# MODEL IMPLEMENTATION:"
      ]
    },
    {
      "cell_type": "code",
      "execution_count": 9,
      "metadata": {
        "id": "uXb6eKgFmNzx"
      },
      "outputs": [],
      "source": [
        "import os\n",
        "import torch\n",
        "import torch.nn as nn\n",
        "import numpy as np\n",
        "from torchvision.models import resnet18, ResNet18_Weights"
      ]
    },
    {
      "cell_type": "code",
      "execution_count": 10,
      "metadata": {
        "id": "BtSgG4OklRte"
      },
      "outputs": [],
      "source": [
        "import torch.nn.functional as F\n",
        "\n",
        "class Model(nn.Module):\n",
        "    def __init__(self):\n",
        "        super(Model, self).__init__()\n",
        "        pretrained_model = resnet18(pretrained=True)\n",
        "        self.backbone = nn.Sequential(*list(pretrained_model.children())[:-2])\n",
        "        self.adaptive_pool = nn.AdaptiveAvgPool2d((1, 1))\n",
        "        self.have_object = nn.Linear(in_features=512, out_features=1)\n",
        "        self.cat_or_dog = nn.Linear(in_features=512, out_features=2)\n",
        "        self.specie = nn.Linear(in_features=512, out_features=10)\n",
        "        self.bbox = nn.Linear(in_features=512, out_features=4)\n",
        "\n",
        "    def forward(self, input):\n",
        "        out_backbone = self.backbone(input)\n",
        "        out_pooled = self.adaptive_pool(out_backbone)\n",
        "        out_flattened = torch.flatten(out_pooled,1)  # Reshape to (batch_size, num_features)\n",
        "\n",
        "        object_pred = self.have_object(out_flattened)\n",
        "        cat_or_dog_pred = self.cat_or_dog(out_flattened)\n",
        "        specie_pred = self.specie(out_flattened)\n",
        "        bbox_pred = self.bbox(out_flattened)\n",
        "\n",
        "        return {\n",
        "            \"bbox\": bbox_pred,\n",
        "            \"object\": object_pred,\n",
        "            \"cat_or_dog\": cat_or_dog_pred,\n",
        "            \"specie\": specie_pred\n",
        "        }\n"
      ]
    },
    {
      "cell_type": "markdown",
      "metadata": {
        "id": "avxCQ2W-oGxV"
      },
      "source": [
        "# CUSTOM DATALOADER IMPLEMENTATION"
      ]
    },
    {
      "cell_type": "code",
      "execution_count": 11,
      "metadata": {
        "id": "ZNds6zOg8w5A"
      },
      "outputs": [],
      "source": [
        "train_list = list(np.load('/content/assessment_dataset/train_list.npy', allow_pickle=True).tolist())\n",
        "val_list = list(np.load('/content/assessment_dataset/val_list.npy', allow_pickle=True).tolist())"
      ]
    },
    {
      "cell_type": "code",
      "execution_count": 74,
      "metadata": {
        "id": "Lv1sI-1sBX_r"
      },
      "outputs": [],
      "source": [
        "import os\n",
        "\n",
        "image_folder = \"/content/assessment_dataset/images\"\n",
        "label_folder = \"/content/assessment_dataset/labels\"\n",
        "\n",
        "filtered_list = []\n",
        "for image_name in train_list:\n",
        "    image_path = os.path.join(image_folder, image_name+ \".jpg\")\n",
        "    label_path = os.path.join(label_folder, image_name + \".xml\")  # Assuming XML label files have the same base name as images\n",
        "    \n",
        "    if os.path.isfile(image_path) and os.path.isfile(label_path):\n",
        "        filtered_list.append(image_name)\n",
        "\n",
        "filtered_list_val = []\n",
        "for image_name in val_list:\n",
        "    image_path = os.path.join(image_folder, image_name+ \".jpg\")\n",
        "    label_path = os.path.join(label_folder, image_name + \".xml\")  # Assuming XML label files have the same base name as images\n",
        "    \n",
        "    if os.path.isfile(image_path) and os.path.isfile(label_path):\n",
        "        filtered_list_val.append(image_name)\n"
      ]
    },
    {
      "cell_type": "code",
      "execution_count": 75,
      "metadata": {
        "id": "Clmklp9GDhly"
      },
      "outputs": [],
      "source": [
        "train_list = filtered_list\n",
        "val_list = filtered_list_val"
      ]
    },
    {
      "cell_type": "code",
      "execution_count": 14,
      "metadata": {
        "id": "F25LAZRrLeD1"
      },
      "outputs": [],
      "source": [
        "from bs4 import BeautifulSoup\n",
        "def read_xml_file(path):\n",
        "    with open(path, 'r') as f:\n",
        "        data = f.read()\n",
        "    bs_data = BeautifulSoup(data, 'xml')\n",
        "    return {\n",
        "        \"cat_or_dog\": bs_data.find(\"name\").text,\n",
        "        \"xmin\": int(bs_data.find(\"xmin\").text),\n",
        "        \"ymin\": int(bs_data.find(\"ymin\").text),\n",
        "        \"xmax\": int(bs_data.find(\"xmax\").text),\n",
        "        \"ymax\": int(bs_data.find(\"ymax\").text),\n",
        "        \"specie\": \"_\".join(path.split(os.sep)[-1].split(\"_\")[:-1])\n",
        "    }\n"
      ]
    },
    {
      "cell_type": "code",
      "execution_count": 15,
      "metadata": {
        "id": "z16n7BbnoviB"
      },
      "outputs": [],
      "source": [
        "import torch\n",
        "import torch.nn as nn\n",
        "from torchvision.models import resnet18\n",
        "from PIL import Image\n",
        "import torchvision.transforms as transforms\n",
        "import os\n",
        "class CustomDataset(torch.utils.data.Dataset):\n",
        "    def __init__(self, dataset_path, images_list, train=False):\n",
        "        self.dataset_path = dataset_path\n",
        "        self.images_list = images_list\n",
        "        self.train = train\n",
        "\n",
        "        self.preprocess = transforms.Compose([\n",
        "            transforms.Resize((224, 224)),\n",
        "            transforms.ToTensor(),\n",
        "            transforms.Normalize((0.485, 0.456, 0.406), (0.229, 0.224, 0.225))\n",
        "        ])\n",
        "\n",
        "    def __len__(self):\n",
        "        return len(self.images_list)\n",
        "\n",
        "    def __getitem__(self, index):\n",
        "        image_name = self.images_list[index]\n",
        "\n",
        "        image_path = os.path.join(self.dataset_path, \"images\", image_name + \".jpg\")\n",
        "        label_path = os.path.join(self.dataset_path, \"labels\", image_name + \".xml\")\n",
        "\n",
        "        image = Image.open(image_path)\n",
        "        image = self.preprocess(image)\n",
        "\n",
        "        label_data = read_xml_file(label_path)\n",
        "\n",
        "        labels = {\n",
        "            \"object\": torch.tensor([1 if label_data[\"cat_or_dog\"] == \"dog\" else 0], dtype=torch.float),\n",
        "            \"cat_or_dog\": torch.tensor([1 if label_data[\"cat_or_dog\"] == \"dog\" else 0], dtype=torch.long),\n",
        "            \"specie\": torch.tensor([1 if label_data[\"specie\"] == \"dog\" else 0], dtype=torch.long),\n",
        "            \"bbox\": torch.tensor([label_data[\"xmin\"], label_data[\"ymin\"], label_data[\"xmax\"], label_data[\"ymax\"]],\n",
        "                                 dtype=torch.float)\n",
        "        }\n",
        "\n",
        "        return image, labels\n"
      ]
    },
    {
      "cell_type": "markdown",
      "metadata": {
        "id": "hkbn3C3cqahY"
      },
      "source": [
        "# TRAINING LOOP IMPLEMENTATION"
      ]
    },
    {
      "cell_type": "markdown",
      "metadata": {
        "id": "SxODf-DLqmPA"
      },
      "source": [
        "## Initializations"
      ]
    },
    {
      "cell_type": "code",
      "execution_count": 16,
      "metadata": {
        "id": "Drkrrx8pqjzM"
      },
      "outputs": [],
      "source": [
        "from torch.utils.data import DataLoader"
      ]
    },
    {
      "cell_type": "code",
      "execution_count": 50,
      "metadata": {
        "id": "1k8jvr7EqaPz"
      },
      "outputs": [],
      "source": [
        "def train(epochs, model_weights):\n",
        "    model = Model()\n",
        "    optimizer = torch.optim.Adam(model.parameters())\n",
        "\n",
        "    have_object_loss = nn.BCEWithLogitsLoss()\n",
        "    cat_or_dog_loss = nn.CrossEntropyLoss()\n",
        "    specie_loss = nn.CrossEntropyLoss()\n",
        "    bbox_loss = nn.MSELoss()\n",
        "\n",
        "    training_dataset = CustomDataset(\"/content/assessment_dataset\", images_list=train_list)\n",
        "    training_loader = torch.utils.data.DataLoader(training_dataset, batch_size=32, shuffle=True)\n",
        "\n",
        "    if torch.cuda.is_available():\n",
        "        model = model.cuda()\n",
        "\n",
        "    def train_one_epoch(epoch_index):\n",
        "        running_loss = 0.0\n",
        "\n",
        "        for i, (inputs, labels) in enumerate(training_loader):\n",
        "            inputs = inputs.cuda()\n",
        "            labels = {\n",
        "                \"object\": labels[\"object\"].float().cuda(),  # Fix the shape of target tensor\n",
        "                \"cat_or_dog\": labels[\"cat_or_dog\"].cuda().squeeze(),  # Fix the shape of target tensor\n",
        "                \"specie\": labels[\"specie\"].cuda().squeeze(),  # Fix the shape of target tensor\n",
        "                \"bbox\": labels[\"bbox\"].float().cuda()\n",
        "            }\n",
        "\n",
        "            optimizer.zero_grad()\n",
        "            outputs = model(inputs)\n",
        "            loss_object = have_object_loss(outputs[\"object\"], labels[\"object\"])\n",
        "            loss_cat_or_dog = cat_or_dog_loss(outputs[\"cat_or_dog\"], labels[\"cat_or_dog\"])\n",
        "            loss_specie = specie_loss(outputs[\"specie\"], labels[\"specie\"])\n",
        "            loss_bbox = bbox_loss(outputs[\"bbox\"], labels[\"bbox\"])\n",
        "\n",
        "            loss = loss_object + loss_cat_or_dog + loss_specie + loss_bbox\n",
        "            loss.backward()\n",
        "            optimizer.step()\n",
        "\n",
        "            running_loss += loss.item()\n",
        "\n",
        "        epoch_loss = running_loss / len(training_loader)\n",
        "        return epoch_loss\n",
        "\n",
        "    for epoch in range(epochs):\n",
        "        epoch_loss = train_one_epoch(epoch)\n",
        "        print(f\"Epoch {epoch}: Loss - {epoch_loss}\")\n",
        "    \n",
        "    torch.save(model.state_dict(), model_weights)"
      ]
    },
    {
      "cell_type": "code",
      "execution_count": 69,
      "metadata": {
        "id": "VM500QzT6O4n"
      },
      "outputs": [],
      "source": [
        "import torchmetrics\n",
        "def test(model, val_list):\n",
        "\n",
        "  def post_process_object(x):\n",
        "    return x\n",
        "\n",
        "  def post_process_cat_or_dog(x):\n",
        "    return x\n",
        "\n",
        "  def post_process_specie(x):\n",
        "    return x\n",
        "\n",
        "  def post_process_bbox(x):\n",
        "    return x\n",
        "\n",
        "  val_dataset = CustomDataset(\"/content/assessment_dataset\", images_list=val_list)\n",
        "  val_loader = torch.utils.data.DataLoader(val_dataset, batch_size=32, shuffle=False)\n",
        "\n",
        "  metric_object = torchmetrics.Accuracy(task=\"multiclass\", num_classes=4)\n",
        "  metric_cat_or_dog = torchmetrics.Accuracy(task=\"multiclass\", num_classes=4)\n",
        "  metric_specie = torchmetrics.Accuracy(task=\"multiclass\", num_classes=4)\n",
        "  metric_bbox = torchmetrics.MeanSquaredError(task=\"multiclass\", num_classes=4)\n",
        "\n",
        "  for i, data in enumerate(val_loader):\n",
        "    inputs, labels = data\n",
        "\n",
        "    # Make predictions for this batch\n",
        "    outputs = model(inputs)\n",
        "\n",
        "  score_object = metric_object()\n",
        "  score_cat_or_dog = metric_cat_or_dog()\n",
        "  score_specie = metric_specie()\n",
        "  score_bbox = metric_bbox()\n",
        "\n",
        "  return score_object, score_cat_or_dog, score_specie, score_bbox"
      ]
    },
    {
      "cell_type": "code",
      "execution_count": 70,
      "metadata": {
        "id": "8TgRVGPDaUAd"
      },
      "outputs": [],
      "source": [
        "def visualize(model_weights, image_name, output_folder=\"output\"):\n",
        "    model = Model()\n",
        "    model.load_state_dict(torch.load(model_weights))\n",
        "    model.eval()\n",
        "\n",
        "    preprocess = transforms.Compose([\n",
        "        transforms.Resize((224, 224)),\n",
        "        transforms.ToTensor(),\n",
        "        transforms.Normalize((0.485, 0.456, 0.406), (0.229, 0.224, 0.225))\n",
        "    ])\n",
        "\n",
        "    try:\n",
        "        image = Image.open(os.path.join(\"/content/assessment_dataset/images\", image_name + \".jpg\"))\n",
        "    except:\n",
        "        image = Image.open(os.path.join(\"/content/assessment_dataset/images\", image_name + \".jpeg\"))\n",
        "\n",
        "    image_tensor = preprocess(image)\n",
        "    image_tensor = image_tensor.unsqueeze(0).cuda()\n",
        "\n",
        "    with torch.no_grad():\n",
        "        output = model(image_tensor)\n",
        "\n",
        "    return output"
      ]
    },
    {
      "cell_type": "code",
      "execution_count": null,
      "metadata": {
        "id": "sQi_dyThSLqR"
      },
      "outputs": [],
      "source": [
        "# # Assuming you have defined the `visualize` function\n",
        "# model_weights = 'model_weights.pth'\n",
        "# train(1000, model_weights)\n",
        "\n",
        "# Load the trained model\n",
        "model = Model()\n",
        "model.load_state_dict(torch.load(\"model_weights.pth\"))\n",
        "model.eval()"
      ]
    },
    {
      "cell_type": "code",
      "source": [],
      "metadata": {
        "id": "pK2x3qSMwnq9"
      },
      "execution_count": null,
      "outputs": []
    }
  ],
  "metadata": {
    "accelerator": "GPU",
    "colab": {
      "provenance": []
    },
    "gpuClass": "standard",
    "kernelspec": {
      "display_name": "Python 3",
      "name": "python3"
    },
    "language_info": {
      "name": "python"
    }
  },
  "nbformat": 4,
  "nbformat_minor": 0
}